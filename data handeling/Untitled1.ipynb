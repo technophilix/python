{
 "cells": [
  {
   "cell_type": "code",
   "execution_count": 2,
   "id": "846d8fcd-0d46-4153-b221-a5814cc4c24e",
   "metadata": {},
   "outputs": [],
   "source": [
    "import pandas as pd\n",
    "from alpha_vantage.timeseries import TimeSeries\n",
    "import time"
   ]
  },
  {
   "cell_type": "code",
   "execution_count": 4,
   "id": "68a99eff-c68b-46b0-bdb9-2cc0267f4121",
   "metadata": {},
   "outputs": [
    {
     "name": "stdout",
     "output_type": "stream",
     "text": [
      "                     1. open  2. high  3. low  4. close  5. volume\n",
      "date                                                              \n",
      "2022-03-28 20:00:00   310.60   310.70  310.60    310.70     4240.0\n",
      "2022-03-28 19:58:00   310.60   310.60  310.60    310.60      121.0\n",
      "2022-03-28 19:57:00   310.63   310.63  310.61    310.61      595.0\n",
      "2022-03-28 19:55:00   310.75   310.75  310.70    310.70     1105.0\n",
      "2022-03-28 19:52:00   310.60   310.75  310.60    310.60     1200.0\n",
      "...                      ...      ...     ...       ...        ...\n",
      "2022-03-15 04:09:00   276.50   276.88  276.44    276.88      932.0\n",
      "2022-03-15 04:08:00   276.00   276.44  276.00    276.44      481.0\n",
      "2022-03-15 04:06:00   275.90   275.90  275.90    275.90      976.0\n",
      "2022-03-15 04:05:00   275.90   275.90  275.90    275.90      819.0\n",
      "2022-03-15 04:03:00   275.80   275.80  275.80    275.80      662.0\n",
      "\n",
      "[6025 rows x 5 columns]\n",
      "date\n",
      "2022-03-28 20:00:00         NaN\n",
      "2022-03-28 19:58:00   -0.000322\n",
      "2022-03-28 19:57:00    0.000032\n",
      "2022-03-28 19:55:00    0.000290\n",
      "2022-03-28 19:52:00   -0.000322\n",
      "                         ...   \n",
      "2022-03-15 04:09:00    0.002934\n",
      "2022-03-15 04:08:00   -0.001589\n",
      "2022-03-15 04:06:00   -0.001953\n",
      "2022-03-15 04:05:00    0.000000\n",
      "2022-03-15 04:03:00   -0.000362\n",
      "Name: 4. close, Length: 6025, dtype: float64\n"
     ]
    }
   ],
   "source": [
    "api_key = 'RNZPXZ6Q9FEFMEHM'\n",
    "\n",
    "ts = TimeSeries(key=api_key, output_format='pandas')\n",
    "data, meta_data = ts.get_intraday(symbol='MSFT', interval = '1min', outputsize = 'full')\n",
    "print(data)\n",
    "\n",
    "i = 1\n",
    "#while i==1:\n",
    "#    data, meta_data = ts.get_intraday(symbol='MSFT', interval = '1min', outputsize = 'full')\n",
    "#    data.to_excel(\"output.xlsx\")\n",
    "#    time.sleep(60)\n",
    "\n",
    "close_data = data['4. close']\n",
    "percentage_change = close_data.pct_change()\n",
    "\n",
    "print(percentage_change)\n",
    "\n",
    "last_change = percentage_change[-1]\n",
    "\n",
    "if abs(last_change) > 0.0004:\n",
    "    print(\"MSFT Alert:\" + str(last_change))"
   ]
  },
  {
   "cell_type": "code",
   "execution_count": null,
   "id": "54fdccda-7149-4236-bea6-825e42ce7f66",
   "metadata": {},
   "outputs": [],
   "source": []
  }
 ],
 "metadata": {
  "kernelspec": {
   "display_name": "Python 3",
   "language": "python",
   "name": "python3"
  },
  "language_info": {
   "codemirror_mode": {
    "name": "ipython",
    "version": 3
   },
   "file_extension": ".py",
   "mimetype": "text/x-python",
   "name": "python",
   "nbconvert_exporter": "python",
   "pygments_lexer": "ipython3",
   "version": "3.9.5"
  }
 },
 "nbformat": 4,
 "nbformat_minor": 5
}
